{
  "cells": [
    {
      "cell_type": "code",
      "execution_count": 1,
      "metadata": {
        "id": "E4dB1zJF0NZO"
      },
      "outputs": [
        {
          "name": "stderr",
          "output_type": "stream",
          "text": [
            "C:\\Python310\\lib\\site-packages\\torchvision\\models\\detection\\anchor_utils.py:63: UserWarning: Failed to initialize NumPy: module compiled against API version 0x10 but this version of numpy is 0xf (Triggered internally at  ..\\torch\\csrc\\utils\\tensor_numpy.cpp:68.)\n",
            "  device: torch.device = torch.device(\"cpu\"),\n"
          ]
        }
      ],
      "source": [
        "from fastbook import *\n",
        "from fastai.vision.widgets import *"
      ]
    },
    {
      "cell_type": "code",
      "execution_count": null,
      "metadata": {},
      "outputs": [],
      "source": [
        "import pathlib\n",
        "plt = platform.system()\n",
        "if plt == 'Windows': pathlib.PosixPath = pathlib.WindowsPath"
      ]
    },
    {
      "cell_type": "code",
      "execution_count": 4,
      "metadata": {
        "id": "wjINB0SH0eKK"
      },
      "outputs": [],
      "source": [
        "learn_inf = load_learner('export.pkl')"
      ]
    },
    {
      "cell_type": "code",
      "execution_count": 5,
      "metadata": {
        "colab": {
          "base_uri": "https://localhost:8080/",
          "height": 49,
          "referenced_widgets": [
            "f0f54a9f58694133a5ec3ad363a8353c",
            "796577d4800a4ef3860341dca1829695",
            "6b1de0ab3c434dde8006ba4c7259b78a"
          ]
        },
        "id": "EuPK14ao--AN",
        "outputId": "83065453-1496-4fdb-8397-9e82fe8fc2bc"
      },
      "outputs": [],
      "source": [
        "btn_upload = widgets.FileUpload()"
      ]
    },
    {
      "cell_type": "code",
      "execution_count": 6,
      "metadata": {
        "colab": {
          "base_uri": "https://localhost:8080/",
          "height": 49,
          "referenced_widgets": [
            "85a7f04645d14e86b42ff1eb354cf148",
            "835f24ebc88c49ddaf5bfd29525d44ca",
            "37915f7e707f4f0da9442a43593a13b5"
          ]
        },
        "id": "O8rb8HvFABbt",
        "outputId": "fe80a229-c48d-4d6f-be6f-c9c42935cf16"
      },
      "outputs": [],
      "source": [
        "btn_run = widgets.Button(description='Classify')"
      ]
    },
    {
      "cell_type": "code",
      "execution_count": 7,
      "metadata": {},
      "outputs": [],
      "source": [
        "out_pl = widgets.Output()\n"
      ]
    },
    {
      "cell_type": "code",
      "execution_count": 8,
      "metadata": {},
      "outputs": [],
      "source": [
        "lbl_pred = widgets.Label()\n"
      ]
    },
    {
      "cell_type": "code",
      "execution_count": 9,
      "metadata": {
        "id": "VWaB-fA3AEY3"
      },
      "outputs": [],
      "source": [
        "def on_click_classify(change):\n",
        "    img = PILImage.create(btn_upload.data[-1])\n",
        "    \n",
        "    out_pl.clear_output()\n",
        "    with out_pl: display(img.to_thumb(128,128))\n",
        "    pred,pred_idx,probs = learn_inf.predict(img)\n",
        "    \n",
        "    lbl_pred.value = f'Prediction: {pred}; Probability: {probs[pred_idx]:.04f}'\n",
        "    \n",
        "btn_run.on_click(on_click_classify)"
      ]
    },
    {
      "cell_type": "code",
      "execution_count": 10,
      "metadata": {
        "colab": {
          "base_uri": "https://localhost:8080/",
          "height": 230,
          "referenced_widgets": [
            "efb36e97405e433b8211708e12c86a75",
            "81d0a1732fe148f7bf694b3d87d57660",
            "f0f54a9f58694133a5ec3ad363a8353c",
            "85a7f04645d14e86b42ff1eb354cf148",
            "631954ae3f65475b9198758fd96efedb",
            "9cedd76a46cd4519ab10372ef87668aa",
            "3b9da14895e6494eb131d790373a68f6",
            "18353ac0cea149ccb7ca02e319d2affe",
            "257643633d4d456d93d5494b25e09886",
            "796577d4800a4ef3860341dca1829695",
            "6b1de0ab3c434dde8006ba4c7259b78a",
            "835f24ebc88c49ddaf5bfd29525d44ca",
            "37915f7e707f4f0da9442a43593a13b5",
            "b6a454079cee4e128f274a03e309fde6",
            "e8a32ffd7a3b4f67a4fada8d51de4891",
            "02f4d88ac6354cfbb6ce5bf1d09079ee"
          ]
        },
        "id": "dBcgiZC0AHpc",
        "outputId": "013b6484-4b86-4baf-fbe7-dce19f3a796b"
      },
      "outputs": [
        {
          "data": {
            "application/vnd.jupyter.widget-view+json": {
              "model_id": "7580f24216bf405db1749eedcbab0484",
              "version_major": 2,
              "version_minor": 0
            },
            "text/plain": [
              "VBox(children=(Label(value='Select your bear!'), FileUpload(value={}, description='Upload'), Button(descriptio…"
            ]
          },
          "metadata": {},
          "output_type": "display_data"
        }
      ],
      "source": [
        "VBox([widgets.Label('Select your bear!'), \n",
        "      btn_upload, btn_run,lbl_pred, out_pl])"
      ]
    },
    {
      "cell_type": "code",
      "execution_count": null,
      "metadata": {
        "colab": {
          "base_uri": "https://localhost:8080/",
          "height": 1000
        },
        "id": "iXiF9U4CAK7h",
        "outputId": "04a3ea35-c396-4082-b5a4-9ae80de0ab31"
      },
      "outputs": [],
      "source": []
    },
    {
      "cell_type": "code",
      "execution_count": null,
      "metadata": {
        "id": "oo3-k3qNCI4m"
      },
      "outputs": [],
      "source": []
    }
  ],
  "metadata": {
    "colab": {
      "name": "bear_classifier",
      "provenance": []
    },
    "gpuClass": "standard",
    "kernelspec": {
      "display_name": "Python 3.10.4 64-bit",
      "language": "python",
      "name": "python3"
    },
    "language_info": {
      "codemirror_mode": {
        "name": "ipython",
        "version": 3
      },
      "file_extension": ".py",
      "mimetype": "text/x-python",
      "name": "python",
      "nbconvert_exporter": "python",
      "pygments_lexer": "ipython3",
      "version": "3.10.4"
    },
    "vscode": {
      "interpreter": {
        "hash": "369f2c481f4da34e4445cda3fffd2e751bd1c4d706f27375911949ba6bb62e1c"
      }
    },
    "widgets": {
      "application/vnd.jupyter.widget-state+json": {
        "02f4d88ac6354cfbb6ce5bf1d09079ee": {
          "model_module": "@jupyter-widgets/base",
          "model_module_version": "1.2.0",
          "model_name": "LayoutModel",
          "state": {
            "_model_module": "@jupyter-widgets/base",
            "_model_module_version": "1.2.0",
            "_model_name": "LayoutModel",
            "_view_count": null,
            "_view_module": "@jupyter-widgets/base",
            "_view_module_version": "1.2.0",
            "_view_name": "LayoutView",
            "align_content": null,
            "align_items": null,
            "align_self": null,
            "border": null,
            "bottom": null,
            "display": null,
            "flex": null,
            "flex_flow": null,
            "grid_area": null,
            "grid_auto_columns": null,
            "grid_auto_flow": null,
            "grid_auto_rows": null,
            "grid_column": null,
            "grid_gap": null,
            "grid_row": null,
            "grid_template_areas": null,
            "grid_template_columns": null,
            "grid_template_rows": null,
            "height": null,
            "justify_content": null,
            "justify_items": null,
            "left": null,
            "margin": null,
            "max_height": null,
            "max_width": null,
            "min_height": null,
            "min_width": null,
            "object_fit": null,
            "object_position": null,
            "order": null,
            "overflow": null,
            "overflow_x": null,
            "overflow_y": null,
            "padding": null,
            "right": null,
            "top": null,
            "visibility": null,
            "width": null
          }
        },
        "18353ac0cea149ccb7ca02e319d2affe": {
          "model_module": "@jupyter-widgets/base",
          "model_module_version": "1.2.0",
          "model_name": "LayoutModel",
          "state": {
            "_model_module": "@jupyter-widgets/base",
            "_model_module_version": "1.2.0",
            "_model_name": "LayoutModel",
            "_view_count": null,
            "_view_module": "@jupyter-widgets/base",
            "_view_module_version": "1.2.0",
            "_view_name": "LayoutView",
            "align_content": null,
            "align_items": null,
            "align_self": null,
            "border": null,
            "bottom": null,
            "display": null,
            "flex": null,
            "flex_flow": null,
            "grid_area": null,
            "grid_auto_columns": null,
            "grid_auto_flow": null,
            "grid_auto_rows": null,
            "grid_column": null,
            "grid_gap": null,
            "grid_row": null,
            "grid_template_areas": null,
            "grid_template_columns": null,
            "grid_template_rows": null,
            "height": null,
            "justify_content": null,
            "justify_items": null,
            "left": null,
            "margin": null,
            "max_height": null,
            "max_width": null,
            "min_height": null,
            "min_width": null,
            "object_fit": null,
            "object_position": null,
            "order": null,
            "overflow": null,
            "overflow_x": null,
            "overflow_y": null,
            "padding": null,
            "right": null,
            "top": null,
            "visibility": null,
            "width": null
          }
        },
        "257643633d4d456d93d5494b25e09886": {
          "model_module": "@jupyter-widgets/controls",
          "model_module_version": "1.5.0",
          "model_name": "DescriptionStyleModel",
          "state": {
            "_model_module": "@jupyter-widgets/controls",
            "_model_module_version": "1.5.0",
            "_model_name": "DescriptionStyleModel",
            "_view_count": null,
            "_view_module": "@jupyter-widgets/base",
            "_view_module_version": "1.2.0",
            "_view_name": "StyleView",
            "description_width": ""
          }
        },
        "37915f7e707f4f0da9442a43593a13b5": {
          "model_module": "@jupyter-widgets/controls",
          "model_module_version": "1.5.0",
          "model_name": "ButtonStyleModel",
          "state": {
            "_model_module": "@jupyter-widgets/controls",
            "_model_module_version": "1.5.0",
            "_model_name": "ButtonStyleModel",
            "_view_count": null,
            "_view_module": "@jupyter-widgets/base",
            "_view_module_version": "1.2.0",
            "_view_name": "StyleView",
            "button_color": null,
            "font_weight": ""
          }
        },
        "3b9da14895e6494eb131d790373a68f6": {
          "model_module": "@jupyter-widgets/base",
          "model_module_version": "1.2.0",
          "model_name": "LayoutModel",
          "state": {
            "_model_module": "@jupyter-widgets/base",
            "_model_module_version": "1.2.0",
            "_model_name": "LayoutModel",
            "_view_count": null,
            "_view_module": "@jupyter-widgets/base",
            "_view_module_version": "1.2.0",
            "_view_name": "LayoutView",
            "align_content": null,
            "align_items": null,
            "align_self": null,
            "border": null,
            "bottom": null,
            "display": null,
            "flex": null,
            "flex_flow": null,
            "grid_area": null,
            "grid_auto_columns": null,
            "grid_auto_flow": null,
            "grid_auto_rows": null,
            "grid_column": null,
            "grid_gap": null,
            "grid_row": null,
            "grid_template_areas": null,
            "grid_template_columns": null,
            "grid_template_rows": null,
            "height": null,
            "justify_content": null,
            "justify_items": null,
            "left": null,
            "margin": null,
            "max_height": null,
            "max_width": null,
            "min_height": null,
            "min_width": null,
            "object_fit": null,
            "object_position": null,
            "order": null,
            "overflow": null,
            "overflow_x": null,
            "overflow_y": null,
            "padding": null,
            "right": null,
            "top": null,
            "visibility": null,
            "width": null
          }
        },
        "631954ae3f65475b9198758fd96efedb": {
          "model_module": "@jupyter-widgets/output",
          "model_module_version": "1.0.0",
          "model_name": "OutputModel",
          "state": {
            "_dom_classes": [],
            "_model_module": "@jupyter-widgets/output",
            "_model_module_version": "1.0.0",
            "_model_name": "OutputModel",
            "_view_count": null,
            "_view_module": "@jupyter-widgets/output",
            "_view_module_version": "1.0.0",
            "_view_name": "OutputView",
            "layout": "IPY_MODEL_02f4d88ac6354cfbb6ce5bf1d09079ee",
            "msg_id": "",
            "outputs": [
              {
                "data": {
                  "image/png": "iVBORw0KGgoAAAANSUhEUgAAAIAAAABVCAIAAAAOr3sAAAAAW2VYSWZJSSoACAAAAAIADgECACsAAAAmAAAAmIICAAoAAABRAAAAAAAAAEEgd2lsZCBCbGFjayBCZWFyLiBBZG9iZSBSR0IgY29sb3IgcHJvZmlsZS5LZWl0aEJpbm5zyBMolgAAVaxJREFUeJxt/VmzZVlyHoi5+5r2dMY7xZwZOVTlVAMKKBRRBZAAAXBoDiLb1E3J+qWtzWSmv6KfQaPpQexWq8WGaLAmRYEkQFaBYAFVharKOTMyxjueaU9rctfDjsxGm7QfIm4cO3HtXve13D///HM/OD+aFZX9R//lf719/vz/9b/84dCOiDQ9AEBWmdLZQjeL8q2Hbx+vTj786Ofr9dHZyd0f/dl/6HJQBDEmpbUtnDEqpTy2Q79vY8xIBEAISIoQMYTgnK0XpVJKG00CKWVFVFZltSjszBpnOHN/03bXfcxiUN+7c+fs6KQ9tJ88/nzXt6RQESEiEWitH957+MqdV88vn/3yk192fV+5Kgfs246MNrXOiXNOrrBFUThb64ycU8qh7/sYYzYCBjQqATZi525BiC/On52fX8aUrbVlWR4dHTlndt3+5rAjVBI4hYgAOfM4BslCRrlKS2JAVJVGxhBCZpHMmIBzBgFBQEQAEGYQ+P95SGfhsqzG3eH86lwVFtsgLAyMiAiolALhnFKKcLO9Ws6O5rOFIgLhcRyHMCqjtFICIsIspLQyhdXBgkrWKFTaD1kyA4JSZKzhzDFEHBEBc85VWYCI9yGpXCK4sqhXjQh0+0FSTikxc+IcY/Kj11aJUogoKIhYusI6g4qpwKqobFad98wZAYksaARmo3XlKhIaxzHloI1yruAsiUPyMSMxZ1QIDgARAEWEmYdhzJmrqrJWW2MrW3ofRAREABEAEBAJjdGKKAEjAGfOY84+CzAiiOBkd0REQmb+39odAWT6Syfg45OjHML1fs+cbWFjStpqYzQR2abIKaFWTHS5uTpenzVlU5YWMscQs4+2KMrSCUpROmUtgNja1qtKmBXocfAgbRxDZgGSzAmiyjkzMwEqpYhIa0uEHCQptjZra9AZUEGLAEBOzCi2cSUXwgwAOWcGJm1KZ6zRxqhmPSetcECNo7GWSZBQUa4aN1vMXVEO2zHFkDgppyrXKLLi95w5pRRD0MpAA0QkoAAJEUEwpRRCSIkNWgM65cCZCREQtcJEWjgB5iwMAiIiQ+LIkplRCEmYBRBp8tdXRkcA/vJrQARUqI+WzeuvvAaIh93Glc7OXYpJaa2crprSlpYTH/YH5hQS3+yuTxcns2aWkriyEKPmTUMkkSMAIAuQ1HVRNrWgGg4DI5Sc6YDdrlVGkdVIqAg0KKW01gqJBEBExWFUoLjQSVIOmVOKWbz3XdclSUqjmxWUIac8DiMk1qg0CvGoIKqMBEqjkhLAKGApZ6Y+drpRRekw4xWk8aAkYk6QVFRGMCNkMMYZZStTWmtJkdYIhIKAJEjkU4w5WW3oZVDWLEmEAUgRJwBhyEFQAARyFhFARZoAEXMCkYxIACICAICEICBEiCgsQECGkJR+5f7dWVl/8NkHfRxcVdrCOjak1PxkqQ0VzuWYc4oxRmY+tIeT+fHJ8Z3n588EQGtdFlVZuBcXL9qht6UyhREoJHPfDePoq6aq6mpLe84iwsZaIJCUFRESCnNKKXhPITKLKaz03I+jb0P2ElMKRQQEFERArbWqjE0iWYbM1hVFNUfSMQh5SpwEWQFW2taL+fJ2U61MFD8Ow+i9IFhnBJkcmpkxBUrHtDPEoEiXZLXWAowESAiIaJQ2JqU0DAOVoJQy2oBQzinmrLUxRufIwlOEmU62IKLSihAQgRQwA6HKSmQ68CKICAqRUBWARDlnzKBfeeW1DPpicwHEyqCxmiUVjVOKQRjQDL4HoySlnPNuv6f7Yp07HLa77V47U1f1vFmcn58PfUu6sFZDxDGNY9eLUspaTKwViQjnnH0UZgFgBYjCLCioiJRSRlshHMfQ7vrYhzhmQLTkmmY2xAH3IsycM0ZWZJzjej4rm4Wu1OruIhifma3TYZ9gwMXxojou0fB4GLabrj3vfZcBwTRUH7nZcUMW+CLGxOQ1ZpIkrHlK7KZ0aJQ2ikilxN57jQoRtNGAEBOpjAooY55iC6IopQEACBERiZAYABE1cUYErRC0EIEySjsjkJlBO4VK+sPIg+hx6K+uz1Hn+dIUjSbAJBpAvB+Lomx34zhGP4zRRxROIJ7jOA5t1wowMiNzjhEBOOdxSMbI2EetFaJRBhGFFJazYimzfj8MXS+RtbVCiIRakyJDSEYbbSjziAIcYx48R9ZaK6VIEUYIPh76VqFSgtbYRT1bL+ZmxnqJVYUntYtjqAvNg+XBqKUzCxry4A+taHYLU68aNAp1tjMsLA5tGEefQlRBkmdLuq6aojCL9SJYGaPPgaOPkHPMKedsrdFaIyIROVeAoKBYrRQZrQwSAkCAJInlywdElFbaEKisKtssnLLAQDHw0I+kCJC1VhGzvrh4NPJYzQpAFIFxGCOqqtDA2B4CxAwAGsmWpSCQ5qI2LNnN3PGDI6MdVQSYlMIYcmaPgmPnjaViUc/KxhhEUo2ty1nh14M/hG43hCFkyNrqqqkJQAvNZ0eIEmJHhFVhDath8CnFvu/HccQMGrS1tD5dLmZ1UxfWFavlAopun/ou7jx7pwtbaZmXGktVGEHue4jRMw9qZquZda4UDMGPvu/HwbvSFafN2IW0aRVaVzlX66qqlk1qWxj2nrRyRZlSRtFEpJXmnBVpQsXMgKBqpwsDIkQEgIZlHIYUE4LmzOhZG10unLKiSzdbOeNg7EKbkspKWKJPwKiU1qWu2s4DZABMiVMibU0YOYTELEZpa+1i1kzBUTkoSjdr5svV4jidWGsLXTa2WrWr58+vckhd7IxWpnaqtMIiAhKjtloXxpWKG63N/ur5OYeMypJRmLPEPKtqQ9i2mRTqgrKWqsrDMArnnOLyuP76vft6RkVZNE2pTIpjyCF51Xb9IXhfFvPSVliCGCBjgOXQHfaHfczoR459x73AUWaJBpVShmdYrJQEsjuVc8JeWIKPaQy97waA3KwrpZQkCWOIQyYhIrJaV1gCUIqRPTtbkKUYQ0wBEBE1aQUpc2YQRCIU4AxKCIFTiGQUGQTIOcY0SOijkJAmLQn3rddWKQCyhdLIIXnv0ShjbfYhsYjSWTjnnLYhFEvrillRWlLjvvfJL+7OC1MSYUqildLOEmDqgz94yqgt+egzJ4mgdaGIisIyZwnZ7zoJgJzD2hd1M2tWMfgujjkn60zVLBfL+cndWXPLmLkVjURgjAIxpEwuvACaXIBYrTSzFp9Zkpc+jnx1s9luO0RjqnI8dGHIh4sDWjk5PilqC9x1Yxj80HX9OHobNKeccmw33RjG8qicHTeoaOz6CGK00gCEDFnpQhEplUF6FmEAhAx+CJyzJg0AHBMHFhGldcySrjuFWK2rNLI6oC5MGHPw0feRPZBTEkUPiX1Kfe8VQjPXQuDHkTNbo+OQuusdIskq5zHvNvuc051mrQglq/3j7eX1XpOuuB46b8mAztYaUgRJUudH1yOS8pSDH7oeQc2PsZxXQEd6sw8+UgLOjKS6vgVgBOiHfn/YKyIEqJfVySvL2VnJ1vc5c87OGWAhAVJamzIkH4ccvcQYos/GcXVsU4j7XdvdxNhyDINSejFfv3LrIYkZxu26Wdaz6pCGSOjK4pyePeo/G7FLOqWcIyTSWBSurFxGEbFKG8iQUgw++j5EDgqQtRIL2SfOGYgRUQIysCAQKCDIzMxMiCJChQalY5ZwiNQnPyZXGAI98qiNTj7pfhw45xCCEhpwdM5BImZJQ45dDG0ixGTzOI4xJkAmUlrpOMbQJmQavb+5uSmKQpMOMXFMOeeckrWGJI/tAchowhRBa0BgUrlaOFIzfxji4NkpQPQ5ctdyTCkFFs4hp5ASxPmxK4+scgQoVlNZOAWGR+JMVi+a7FaNzSVoZUQk5j6pMYqvi3z/Vl26RpFdro6dLgxYZsk5Gm2RUCmVWWKM7z3g9t3N+49++uL60YsXT0YetFJFpawziUVXyA6H1o99CD4BsACPQxLSOSaOglaj0zgmoCwsAMTMqEgRpJxdaYumspVRhQ0++Mz9fgidL5tiyujCICJ6P+xzZmMMJhm7Pgtba5tSQ+KQGAGV0iBgrF06x5KWi7UxBYsY55alG/quqqvlbHnx/EV3OIAYQSKh2bw6udMEH3fXXjWmaHR/GPbXknIuZuV8tfK2vDm/DP0oLMBIde2srctqx7tNuxEhQejHTIbW9ZnFInuHW0C2Q5sMahDd9gMZCikRBKO1LZZWm1kzr4/KzAyASqkQA4/SxlZYfPDCAghK6Qml5MwI+ttv/MB88wfPXnz245/82WePPvLeFyHGyIAck+w3h/EwsrBySjubIqQxp5Q1kLCwZEBGJwDEiUmoWlemwOA9GVXVDhBFYuYx+BB9SDG3u0GDymNKkAlRgxJNikiN4xAzWw0Koa7KxKnkpJRoNABotLGlLRbu+OxIJIcwAnBV1M4pY5VPoy1ds1jEGDRBXVZHt2en95fZ82wxoKN2N+QYOAtH0Mo4Z4RFOxd3bfbJkFnWi3ldhxCCD73tlTEP3rz3tbfevVXeg43tW7/bHV48f5Y4iXBO0Zpi9KN1rixLP4593xdlUZXV8fFxXc/quk4pERIzK62VUjFGETFGW2uFs4/BghGBGOPoR9ebs/mrf++3H15snv3lh//p0ycfH7Zt2VSkMA9ZvGQRZgGFkiUMXkRQK4iACIRACkljuXSzWePmlhQHr2JiBBk7LywQOfsIIEqrnHKMMhUSQqK1g4p0DDwMvl4WphAOgaipakcm51lBUXNin71pzPxU1TOXc4ocInBd8HxRExLnfPLKejbOYvRNo+vG2BJQYjl3tm5SlsI4v5f2MBCxc4gqAUZFojIQKE1kSGttEWTezFDk5NbZr/3Gbyqsnn34YrvdpTTuD7v9vh3HUSs1ek9E1tqcc11XWusQ4uXFedM0+/3OuXK5WBZFYa1RSiOiiBhj2rZFgKIsXeFQqZxTSolZFKkwDN3hUFXV0ezW7/61f/ze5ZMf/fiPP/jw59poEAKA5AOPAoTjwccuaavRYE4JEZEUCThr1mfrsnTd4RAli8IcxXufQmAGhcpYQ8Ax5yQZEQBhoig0IJhSsSTnVD3Ts3kBrAXZGldV8xBDoWoEaIcBjVgTq6IkBNFYzQvRSQiZdOWq9bpOmhFNaVWWEPqDVdqYYkitNRVodkr1jDlGI9nZXBVKo/UbG3p2ziQMY9+GGJDwnfe+df/ea7vL9uL8sxcvXuSUi7IYx0Ek5xzadsg5Eynvdc7J+76qGq2N0ppFrq+vu65bLBZN0xwdHYMQgKSUZrMZIiqlhs1Wa6W1Looic44hFkWhneWQQwgxxrKsls3x3/mdf/T6gzf+9Md/crO7tNZI5jik5HMehANjAUSUmEUEcp4ONecQUr652PpDsLVLzClGBLZ1LajQoOaUkb/k4kBEIIrmzEhorDm+OytnDkWHgX3aFRVaW1SudLOKYaiqInMiQqNLFkDMVWXBlbtdFw6b27fcrLFZWkQEKTja6BklCRInzWM+XHXdzmNWsU39pkPI5cKWlVmsS1rT8lajWKUulUt7+8GrtxevPXtyfnNztd/v9vs9M/vgiSDnSIjL5aLv+t1+P3G8StF+vzfGOucAgIiI8OrqcrfdxhDrutHaiPD1dVBKlWWpFHmfAdB7P/Gy3vuiKouizJy994gIICnn1159d3V09Ad/+M/3m4MRC0KQvSUF1lhnlaKcc0oJRJgljHJzfXCF8WPu9mFsAxAKszKkVDalTjnHEFLKL20vL5sDOsUMLKZyxirI2O3GYT+SS91ARNq5ph16NFEUMIAIam1i9JxH4wyRYa1sbZuiqG2VWn/wfQdRUeFHD6gKUBZLP3BouVkUIpJSLiuDEbYXe1ep+Ylt5uVsWcW+MGfV6b1ba/fa40+e39xceT+EEOq6DiGG0D9/9vTm5jp4v1qv7917oEgNw0BEwzAaY4xRKcWuy0RUFLbrDtHH58+frdbr2WxW17VWJsY0DIPSpBSlxDlnEUkpIWLf97Nmpo2OMYYQrNM58/nz56e3Tv/h3/knf/A//w9Xl1da65y5KIhEkUEknAiYyevM3N10A1GOGRUBAEcBpgTMnDBpxRwZWBhEEAgIgUEINAojKvE5Cyhji6W1pTJKceLN1aEogUqmIhdFmYaEznAGz31KknMgTMuF4uSM6RWUCCmnzBJtQ8t5UZWqtJGjRW9OTqU60ta42Pl65nLOIQVnaqU1m0E0zaplXazXxf391QAg88VytwMzhhgDQP7oww+uri6VUgDw/Pnz7Xb38OGrhAgAKSUiHEdfFIpoOl66aebb7U4ADodDCMF7X5ZVURRKk7MuhBBDZOKyKsdxVEqlFLb7zWw2s3bOzH4M1jnhvLnZ3rp1/2/+7t/6gz/4n1JgAUkJY8qZWdNEvtFLsh8pjgEgK6PKmRGR5DMnsaXRSgkzgCLNpJizMIkgIgMm0DlASlGpXFKhLJaVdqsGxHS7bnO9h2DFJ1EcSzSgbVURaj+Ofd+h7ucnc6OLocOYuO8HxmjKVM2qptZlqQUAAlvnzKmk5Ey6nXrdlG5W1c65nHK767p916fu5PTE4gxadbXZffroUyQ1m8+Pjk82N9c31zfb3dXV9SVNTLoIEXk/7na7pp6NITDzOI6IEVFNlJn3vmma+XzuvQ8hTGd8GIaqqpqmNtqURZVSnl40RseYfAx+9IfDfr0al8sVInofiqII3m82Nw/uvfPXf3v/R3/8r7FDDsI5C0LGnFJmZhCVcwYQJCJFtnGkFGQB9mCpqqyIpJhFSCldFBAImCEzQMgCood9iCnWy7JZmhxTCJgh8hg5JmsIkFXW3vdeRjFaclaKkEQ4WYeudoKiMqNH1lS5RjGbxlpnNBAgZmXIEmg/Xuk//sMf7vdbY4v1enV2dpZzvrm53u+3APrhwzdOzs4W8zkIHHa73X43m80Xi0Xb7r744tP9YTedNfkrobPv+1kzJ1QsWZGqqjKEgagCwJxzjLEsy8lnMcZxHIui8N4DAAgtlytjTExx9H1RlEqjAqdIMXM/dMbqsixDiOM4aq1ZGAG/+fb3rrvL//wXP1ZkigyZc04BMmQvMQZAMY5Ik7VGK02IwBlIZRFhEIEQEpFSSruiUFp8TBRVnByAlSmNrZYFCo2HIbLCCGEfSLg+NnXhDJqYlI9BOAonrbW1zjUuadpt/TD01nCptJBFaKwukBKDymBIRHBkiqNPw5j2h81uv9Pa7vfb3W5bluXNzfXhsL9958F8uZgtF0cnpxJSWVVt3z1+/Oijj4btZrPd3uScEJGZpxswOWDifHPOSDCd+qIoiSilPI6jtbau6yn4OOemZIuI0/fpug4RRZgUjeMw8d75y8cYY621xrRtl7MhogPttVa/8e3fbWP/2dNPhLVSRCDtzXD5+T71nbKEqLRWxlnnHOecIE0wM+UkAiiYQsqQ2SggEJYcE8QMLPr4lSNjVBx9e9m127bI9fK0GFOPGmcndaW1zjayAd9iQlsaBhDIxbIcsrp4fLm/OdRLuzoqlT6YSpyxCTlD8pJVtCkBSo5ZzVb89nfu/bs/vNrvD3Vd5RzretZ1nSvLt95+d7U+aqqaU9rut4vV+pWHr3/84fu//OXPWURrLZwFYAo+U7oTEQC01qWcJ0yXM+cMZeli7CZDA4C1drvdAoDWeuroAYBSpiwrZ13Xt8LSNE3f9977qUeacz4cDoi4WCwE8m7fxxj7vk8p3b5191tv/mpfbBWwtQqUbF/0vo3CmQqNiolIF4a0yjkjT0cEUojBM+QMgpwlKCBFiIScmAUENDLEMfXbsN8NfR8yoVE6tlFKGrvMNpUGm8XM5NzvRhEgEEWoCVLsbUUrty5KrWxCy64C4xCiGb1wjppl7JLnoajt4rT8tb9+V4D//R/+tG27qkoiMAzjt77+9nyx0FqnlB49ejT0XVEUhFBVZVlWdV0T4dB33o/MPEXz6TFGA4C1broNxhhEbNt9UTgiijFeXFzM5/OqqsZxFBHnnIi0bYuA1hpjjDZm9MNms6mqymgrICF4Y8zkqnH01hZt2w9jP2vmQz/sD9vbx/e/Yb5x3n0c+xhiqhb26NUlswggEMeQIENMUXzSTAkgcuKY45CVoACJADCDIFrS2lChcsx6d7FnFGAkpRjg0A6S0ZDWVg2blAuKLtqaUUzoe49jWZZlYSEmJXJ6f61cTTmksSUBERMFhzEP+0gg2FQhxstn29mqKrVNbnz7O7dWJ9Wf/8lHjz653G23t27fvnPvvtZ6Pp8PwzCfz43CTz75RCkiUlVVKXU2jkPft33ftofW+3FKAxP+qJuGmW9ubowxABBjCCFYq4uiAMCUktZaaw0A06XRWosIS845A8CsaWL04zh2XWdN4QqHiFMIYuYYIwIBgPdj4crCuXEcu71/MHvb58vnu2dxTNbRbF0envXBJ0FAwDj6HLIWNMoQmRyTJAZB5pc6FEnMgEyCggAIDnVKGVEyQ45JCYoyISSyihnjwCmwLaHfjJBoHEHNTFXVwplZjK1cWTCnFHNmk4UPkU3O/SZ2176c2Sz9ZtOFA267COO+qHVRuWJh/trvv/PqW/vPP3w2r86MdqvVOufczJrZbPb5J/3Z2a2ua5l5CtzTaS2Kwhq732+99yllIur73o/jar3OGV66BEOMLEJVVRPRdrv13vd9z5z73uecy7L80sS2LCprrSINgFMZIcJGOwBWWk212OgHAIkxHtqd0mSs834oy6XjtQ+PYxbJefI6Z2W0yopTSn4MmQGMZAFMSjITsLzUZOHE2UlGBEEA1KRn86Jvx/7gwxitNbZyMUeyIMQpxKJ2VmsQIaSqKJtmBiSSYTjkfer7QwzJ17PSlY4xcJSc3LgJ7X40hdEUDZqm0QqJvfS5j9obIhQql+7+1+4U+bQsy6kWjTGG4I01WuvD4RBjLIqiqqoYI1Gs62ZSTQHslcoAIsybzWa+WDVNMwwDM2ttnJMp+uecq6pKKVlrc46IMoGoKXyJyDAMiFgWVQghphgxxZiOj46HoQsxKFJTzTGREyGEoiit6bSmuqqO3J3gfwpglCakCIxIoEoypGMMSMCZfQgsKAwTfAOE/JUXAPFLdwiDNpaU0bZGW9rZ3KmCMpsJGBhxVlmjNYEog1bVgJLiCGyHlr/44ryoLRUwtuNsXuuatDEZEIyoShWzwlVO2WROQWvMHH2AcYyHzQikxy3nFpt1MYGTlPOzp4/HvgfEvu+NMVrrsixTSkVRFEVxOBysTWXV+BABo3AiQh/C4bBPiYloygFaq+lXDCHmnCbIhKi0JmYuy9I5F2NMKaWUYozWWqW0CDprOQ0pZaU1xzwB0Ik70lr3fb/Z3ACINubQdouj44ZXL/bPUDUcGDhnDpwtQDQOs1DuQSIyI0sGECAEFGTMiQlo8oAIigBk0Yi8XFVFwyBczpCs5pghgSnqFNi3kQiNckYb9tQPIcZklTWuIOPm64VSOfRxN4712tlFEjXYBc3nDWts+zFnn3VWGVPi4ZAP16HvBnI69nnmjoSBhQnR9/3l5WXb7pwxISallHPFRMt4740xxhiiRik8HPZKZSAlACKcUjLGEdEUu70fy6KI0Ttnus4rpQ6HFoCqqgohTGbNOTvnWHJMUUSIUCALsNIU4qiUMsZOt42ItNa73e4rdDRr5qMfj2l9Ut364OMPx74bt2PKTJo4pBQ5JyFRGTgJiwgyJ5BJNjHdBfxSojgBOWbW1lEzK2rhMA7KOiLqd9AfvC77kOLYxpOTlVCFQlpZgTTdpKJy6+PlbDE3KsUmsMeU4jhEa9nURfB8/nSbhmQLKubWKJaEpGwxp36Mh433nS+PFzH5FGPfHdr9Lnu/aOoQvbMaEGOMShlEmHh851zf9yJirfXjmHPWWk3H8+joKOe83++nf7bdvsFZ2x7GcTDGphS0diklpdRUlNV1rbW2VgvnEKIrXEwhBK+UKgoXY4wxiUiMcYpmzrm2ba21ItJ1nTE2x3x8fIuQhm0Y2kyltk4JAXJK/ZCiCCjSwjilJ0FCAcAMRCRq4k/ylJOJSKNwiqPSaKw11oU+tjfD5vogJMqANmYIw9U1V6Y+Wp2UTnNOCYI2sV46Y5CMnlkX9mG/C1GyNkZBOdzsHn/8gqPUTVkti6o0hS1WJ/Oju6qYuS8+uBx3oTu0i8Yvl4tX753++dXlycmaJQDUy1n9+NmloDZGd91hitopeeaYc7bGKK0n2D4hfWttSqlp6q5rc459P4QQAaDruqOjI6VcShkglGUpIhPzU1WVMBmjQxyKwjb1vB86EQEhYywiTm/rug4AprIuxqi16vrOWtcObe3mdVlfDYERssoRUFhCDKGP0bPWhE6hAlSiGBQQM7O8FNJNMmBgBmYh1ILgfVTJaGcUaSIuSofYep8s6KoyZVlO3UtUoI0RkRB8SCNj0LWzBZpsg+d+EzMNQ4gO1tqbvItjiKlL3XWnNWql90eH4/uLkEQiE+DQ90rh1eXzV241t28fIyqQ+NH7v/iLj37x5MXm4Rtfr6pqu93GmMqyFslaK2vdBC6nX4NZUkre+5TiYb8HlO12a4xJKRGRUtT3Y1lWzDypgKdTbK0NIVhTTNLlGKMIaK1CiN57V9gJKU1QNYTwVSpOKWltmXno+/Xx0mbbXrVIKEZyZmEOweecOEnkjMCgEImUJgSE9DL9MjOAMAASokIW0Mpqow1kBAJRaJ1anc18Sodtby0uj2arRUUARVWgHRnqlCSFYXPV7dLo6gpA8qh3m8PmZhdB3D7cbvB4drSaLS6vNhAhhjwyx9heXxyuL3bz9QwFitIN7dj3h5ur68qp3/ze93b7rqrM1cWLwxjK2frJsyd1XTlXRpAQBq01kdW6yJmLouj7NqUAUCtFNzdX49BfX1/P5vMpvU65l5m1TiEMShn68mHmvu/ruh7GjsVZazNzUzf90HHOoGGCv1PlPNUNIYSvEnJOue/6lDgnZi/jxru5UdZGH4FBKZ2dqMTMLIFJKXAgOIWaCZsJIgOAEFJhiEAJaO2MVopjRs3aSMpsS310a6EcKi2zpTI2KzJkpA9dbcrClQcfwshp4PHaByUcwsXNzWEcrC48R6ZczGbz1fx6u80piSCINPNmebwkytWiqldNt+3OP7t49MXn9+68WlczZ/RyVpyeHcdvfaterNt9d3F1HWOcz5fWuRBCzrnvOyLtnHXOWWNTisL54vzFOI5TY+Dq6nJCNWMIE8LJORMRs0wnHQAmTKWUmsx6OBw4y9H6KEYftTZGTR2CyX/jOH51Ffb7vbW2KMqQQtd1i9UcEYw1RApD5hDJau2MCEn2EkGyAE0KdJgksBN1isJEpAG1NqQxc9Q+Yk6iBRVQykkUooCxioSBWZFKLD6PKgdStF6tZ/W6PeyruiSrDKrgQwgpS9aaOEZRuG23R6dHs9XMPFE5ZRAQkpMHx/dfewVycI0pF/U5XFzSxdD315vzO3f+xu3TU5EMCL/yzffaPvz86oOjo+Nh6LuuG8cRiaYYEkKfUpis45xLKV5c7HPOSiljdEo5xehsMaGOKZJMAX2xWBhT9H2vlJrwaFVVU1cypTT0w2y2CDH54CevKKW899baYRi891OlwsyHw545e38MAEVRAggRklaOkBypglBEomJBliycKZEgchZOzCnjBN1QQLIojY7Esx67CDmTIcPZMTlnhQgJCZQk0+6yLkXXRlld1QtXLFhy4ap7d+4MavBj6DuaLSvXVD74YTcMw4DAFmxT1iAACpVBrfVsUTdro5St69oWbtx21ayOmXt/WC0bU7gYQmWVdfadr7+5vbp88eyLfcxTiEdE6xwiWmsRYBi61WrpvZ9S8TiOMcYY1Ve9EWOs+vIxxgAg0csYMpUdwzA45zizcyUzD+OwWC5mTXN1famUcs4R0fSe6+vrGCNzDGHU2ux2u6ZpiIgzK9LKKSqtcUqDAGVSQFXBPKmMOY8QQiBUIMCSUaYRHGRCJCAlnBMA6BQihwAjpGhzUgjGOQHF8/UsB5apw2R0UZWo6NBdhzRWdX12drulw67bztfL2q0P4SYBdNv2sN1btiQ0m82O76w9RFVQM58d31ubApRCbURRWt6av/6dB4fdPh1kPV/GlL6kM8sH928/uX/2/oel60II+4n8mSJGzsn7USs11bpTO+wrqmcCminFzCwCU3EwBaXpQkzFlzFmchWLWKUz5JdcN6FSahiGEMLEm+73+7IslVI3N1d93yNSXTfTXUSB+ely2c2KytlCpxDbXZ8ToEKtlNIqW8EIklJKGRHgy74ZWLCVVQRAoLVWhnQeU8qMgAjRx4xock7GqsXJjLMkQEBQGlCk63YbgZyTRk1aAwAVNNOzUpceQBIrS1ny4IfOt/Oz1TePfqUdroWyUtoaZ4xBoGEYYiIWWBzPlseLBhZa2WdPXyyWy7qs68LpcTxaLo+Pj85vdlqbl6Vyiggc/CjME6EfY4wxTj0WfInreDK6AhGBcRjKquq6rizLw2E/my3Lspj+S13X4zimlI2yKSfn7Oh7pWgqeifO1Vo7jfMBgLVFVdXMiQimEiGEeHJ7/e7xK1WhGXi33794kneXfmxDGiLHiMxIopVOwABABDkxslSLsjmuSYHkl8NKOgnlpIgwJxSG4eCTp9mygBmXMxNS9j6LqLGPQ++XWnLmzJ4z++TH4K0ZlTgf4hBHBLAlRcw9HOauWcyXZsQUvQ+Rs+QIPo7Jh5QZprEGlFduvzb6eOjaZjY77G6GmUOie/du3zo9/fizx4Oa8DsXhZlOUNd1u91uajROxepXbbKpa8bML4V+iBODbYz5sl8GZVmllNq2Xa/XbdvOZrOqKplFK505T1l3Kphns9lms5noo4mY6bo+pcyZp0Q9WziyNaEk71G03J1zPByuh2EYOEmOAjxVv/jyB2RRRlXLanY0yxJiYD8mzKAjJwUEgCAgAhIl5extCLNcNU7ljILD4NOAHCiUObMoAN+Pl5ebgUc1c1QWY+vb8YBI1rmyIl1Q3/dp57tul6drqZWPY4DgfUgxO+OYiWNel0f94NHW+/bgKiwLKKuqXiz+zt/+XVdV//J/+SMiFOGcY9/3l5fXwzBMYQcAppjDzFPEmEq2ifefsP8Ul6Y3KEVTFHLOMXMIgQj7vnO2KAqnje73/X6/nzDohP1zziEE51xVVfv9brFYVFUpIEQUYmLjAUKKafAcPEhUhEQoRJAFcxJkJkAiZMCcGAUEWBBiSpkTkyCKIOnFwoVOsmQkTaQ0au2kaQqtJaWktZrN9Nj5bu+FwTclc7bGxjY8++xpF726Z6Uxm+v2ZrNRThdz2ywcLlYhhO359e762ja1LgsAcBW5hUJxHnziNBz6WbFerh+4wtmi+Ojnf3H36PTkzh1jHLnFfHWE2vzxf/yzEEKI4cmTpzc3m8k6E6KfRCVENBn6rzKdpJQATXmCmYuiCCEQESIVhQOQqYo2xnjv+6FzhUkxx5gmnU+Mcb1eT56efFAURVmW2+1NWdYA0HWH+aLu/HYTOiIcBrl60e1vhm7fMaItiuw9MTNARlAAyELAjMhZfDuSzaKRyHKCnKJeHVejG7tOFFnJKIkRYTYvyEIIwWg01lhH84VFwsVZGaCl6HwaMryciuqH4eriphvC/VePVqeNq8g6CnFEwrIsEySRwMzoKlWRKEltbm+GNAQTh//xn//Tfhhv333lV3/lG7fv3Dl/frFcrcatb/fXf/T/+fec0zD0nz96dHOzIcLJ1hO4nILPdNKnju7EcCEiZ1FK4ZeJd3JSjNH70TnnnEKUKYyUZdl1rdaqLGqjTdd1xpjpzVMjYfLT1NOfz+dTOa219qn//NMvRuyU0bGl3XncXXYhR20UEpGgNyr4nBJzzESotEHLxik3s4A6tZ5l4JhyFC2IoEkpxZkh5zAEKgswJCApYk65PXhtzPLBknM2jQGRlHNgrx2Vy9l8NWu3/c31jZnpxZ3y9PacCBAUe7Zl6VMWHstZQZRIJ2EtADElMmo5W2iCOq9Eus3NdV2as7Pbzx4/Pb96tjhavv/BJ//m3/7bq+3u/MX54dAqRV8F+q8MPZ33KfdOL06xiAiE0zQFqLWOIZi6FhGtDQDFGKd+TlEUMcbZbJYzj+O4Xq8Xi/nNzWY+n6eUvB8Ph50xzrkipeD9SAQTk1pVlffDo19eqQaU1qvmztHilr/5pN+em5ma2sJkNXYehpBEUJFSumysm7vMSXIEyDlK8pED6+QDJwEg0myd0sYZZ3IGhWCMkYxocT5vjNG7XU9xVumFUmSsppJIk1ImDIEQ1qcVOn+932DCSjU06sP5zfn1ZX1UuVobh+12Nw4jaa1BXKVW6wIRT2j+xp3XP//iw88//uxf5awVn90++ctfPP6//t/+n9rVh/2LnME6F8PL+gv/yvNVg36Sn0xfT/dj8hMhEcIkop44uxgDEU3gqq7rieGZaM7FcjGbza6urhFxGHrmLCJ93ymlEGFydlmWWuuiLJ9cPEosFiqMQOi0KRF0ux2qBDzLQIAI2gELKeUkA4hIzilGq1WGHAGEhYh0qXQYYgyYEmtNgqgKa5QZ952pVdXURjkRIKX6YYhRBDFwb8EhgXImx5RCnC/N2997sLy9SjE8+/y63/nj5uikucURSJFADKHTVtVNqY0m0skAjzwzGogO8eK6O+/K4WkX20+uHtw+fbp98cM/+2UfgnNlStFaK14ypSnaTJdgOuxfXYKvLP5XNwJMbcUYAyCN41iWpbWaOeZMVVV/FYIQ8aVIfRjKsppo1JT81dUlMxtjYvRKkXMl0VTTEXMeua9WlS4sCQ/+Jo5Xu91VCtLvejUoO7NF5YxVCFpMjjGHLhw2vpRydvsIUKehT5Ehoy6sjgGDjwDoU0qJq3mZgft9sEJKU9bGjyFnSJyKsux9e3HzmYb68nADzMZqW2F9a7Y2Vmv15JHfPNn6KKUpjo/HkzfqpXKoOEEMMbvS2KJwoL1wJ6kfY1NbWkjH/YvnN5/ePC5d+WTTNa42WlelIdSuKPe7jUieWiJf2Xc68pOVJ/psit1TZp5C/1c3g5SaiobFYvFlWTeI0LSIYip9ASXEMJ/PFeF2cxVCGPreOedcQaRFmIiapp7q5yyp9TugGFIqVcMsQ38QSvWqSiGSQle7Yl5wjAQ5BFGZAVEiaFRILMgKlHAQ4SysEa2xSiT3fW+stZY4xzjG2FLizhqbEscg5bxQWoNolDrmMOQWHddVUVZaW0qUUo5E4lSJlItZIdUAZbbWZjGGVWj9zfle02G1qrQpDj5ISj3k3IWbJ7tnH7zoNsN8Njutb5tjTaRyZm1hPp/t95u/GnmmsPNVEp7A6GR3+FIkO704eQKm3jeAAGy327qui6Jo29baUmvVtu30fUII1prZrInRez9ut7sJjCJSzuzcSyajLMvM3IWbaNqqJsjqtHkl93nc7svFzFZMCKjAlEobEwmAUYCyjyigC+UWNivozoe+DTkzKuCUNCCjBgapakdIw2FQmpSxjODHl+soiMBqjUAcxGLJ2swXBXI/KwhN6MY8plZrtKWZncw55tPVgihvLrbdIfqYkSgOMu7G5aqcrcqxH7v9KAA+ZIUUEkvKOQZEsdaVdXNoO+/HsiyrqtBa5xjly/T7khbOeUq80w2YEOfEHk8+mP5kZqUMgKQUtHFfgShjDEBWyk56pKl3H0II43A4bC8vL5C00lob431vrbN29hWfcbRei93eureU2b7gsyP7zvb64skXH2ffATIYbSqDADGEFBkIkEQYkICMAsDh4HeXo2+9dtrMNQjqPEZtlXa2bBwzDuPox2gKTag55cgQvT9dz986Ovvxo0/X5UIRKTKWTMG6KQhh2G0Pu8NQ1RUpKyoqa7zKZgQzLIeLi6vNDRnljK0rW6+r6PFwPfjA2qAA2YU7Ms7vOxAgraYSyXs/DMNisVitF+6p48yZcxrHrzAPfrmDZLL+ZNbp9elyTKgUABCBWZTSE4qdeltT+/7LGlVSSuv1uiiKqcyOMVa1yykxZ60LIj2d/WEYlsvFydnR3Td+ZTs8/Mvn/zpFSuT9kMY2DxsvGN3c5pxEMgLkyBw5xSzAxhnOub9pU5LQRmEhAiDgnHTK2YBSQCxJF6a2lbThuGo+320ZmIxR1m274e766MXFwQMIsqSoSFW2Ia1j6Nrr3dXzAYvRKne4OihH/Xa43RwvZ0u/HNgm5YxiKEpbNKbfjzcvWl0oWpZAShFVc/vqNx8Wq+v9423wYWJ7iFRKaTabF0UZQuLw8oBPB/bL+IBf8RCTD6y1fzUQEZEIE2oiPYl2h2GYAlQIPoSp1wYT/QAAbdtO0lPOGZHG0VfVzNpCa922bVmWy/nilTdfPXv1IT8O2x/Ks6dPlnXstkN308U+CghDVCZrg6AoDmHsggFTFEWfBhaJPsc+c2ZEBGFSBJo1Kok5QUJRkCU7XYJWv/LuG91Pf3G+OSTFrrIxqf/w/sd/8+23/vUvf7FpL5GSrU1pisbq0Y+37hSHTXz85AZB+cPolD6orTtVi3JdF6UHzwggQlaRVeVcZdjuz/fH1jjn9tuubGKzXFWzptWt0irnaWiCirk+PZvXH8y22920L+ZlnfUl9/CltuBlIIoxGK1JKeGXb5s8BMSInJNMLZrpDqWUJtNPeNR7rxRdXV22bTepWoqiEOaua52zu90GAGezWb2ocJ6342fX44dDGs4/vXrurwgwxogKhDmNIBkIVBrTuAtpTAkSRAkcpwVVEkVEAAEMVjMrjnTOFEKMKTlwApywA1E/f/rou+987V/+6D+zsO8iIe678Gx3+e7D++fdpXYSdcgjf/v+Wxc3APri7C52+/zs+Y3V1CxLYylRHMJISkkS1KitsaU0C82gyrnd33TDbrBIPoTdZTaqHVvfd36z2SKCtrmsCW1Y36eT28fn5+dD8NNhn2w3FVNfUUDMLCxFbd/87qsG9c3TXd8Ph13PzCIQY0JEEeQvE/VEOBtjnDNTMMs5Bx+U1iIv3TbFNKUoxgAAVVVXZVOvzVX6T2lzOOTr41ft+rHdPGqLWeVE9z0o4xggheTHPB6G2GcRFhY/tKRebi0TQdLk5m52VpYLMwxBB88ppZQnlI0izBx+/JOP7/7+0cPbtz5+/AwUpJzfe++dT8+f/93vf/f8w49uuj6BiNCj58/uLNafd1fN6fL//Ou/88/+2R98cXFdrsziqJKREgVnqSitnmtbUT3D9aLqxwgIOXHu8wBeVxRH3O02rFAb9KE7e2V9762z9lA8++yGcHt80hRF4cd+GqmYLsFEB009r5eQn8D3SWt59Runxw+WHOHm+abddzfPdn0bYwqKVAxeaeOcmwIRIubMWsMkBkWksiini+Wc01pb5+q6nvqXCLBarcuj2I5Pxs6PY9KlffPXT9I7FbP0B7l8zIMHBthfp7EbU5/k5a4MBMCcJkhGIlDOXHVSqlKNfUyt19oqa1zOPkcRAQIKPgXP/+5P/vIf/s5vfPr5c1UgKxXEK1c92l/cXa4/f/8CUBdWfbG9/MaD1/ongYxuY/vf/P2/83/5p/8sA4LW89NiNUcELmUuFjNHY4hzzD4rJAea+xSZjHYG9UhwdHd+92H96quL+w+WixMLTLdu5X7Ls7ooiuKgyCoXvP8K3U/PVB98WZrJ8y829765au45Le7WG40xavOs/ejPnn3yi6csbLSCL2XuWuuJrFYUvR+0UsvF8vqq/6t1RtNMekgoimqxWC2Pak/b82dbHmOIglofHTfmWOfkD4fok9590PWbOHYhD1H+/y3oAwAilCTjrvcdCYoiIlAsnJFJoqSQ+nGIPgLj82f7y+urdx4+9EEgQkjy+q3bf/bzT44XS+nRdzGGeHWzA4XvrO/OxP3wlz9/492H3373da2wruz6rJydutmpK5eKDKQom+vwxeebx5/t+tYjktZaaR1H2V+3/RDIyPErdnlHe277fgcW5meLxd1ifcvNZvPZYgYIk+G+MuL0xVf8qNLYb/qhzUwc0hgkRYgnD2YndxdaG2PcpMPVWjvn8MtZj2mehZAUYdu1LzkMwomSI1J1PavrZrU+0uv44aOPP//g8tmL9tAFi0kriNn3Q44RcsJuM+5eHMZdFP7f5KevKvYJxfnOD9d+vPYSQYj0uBtTTIUrnJ72WjEgWGe0gR/+9KO//de///HzF+MYPvnsyeu3Ts+f3ly+cnmyWD7ZXQpSTvLZiyen9QyD+unHn/7w/T//9rtvHT78yXxVaCOJcwx5uz0wG2D0nrcX4/XTXbcbDGgzn5WV8z6EGBHAD+nZ5/v982HRuHuvN5kYBDKpszfp9iuri/MXzhY5psnik1jhqzQAAIQoqJRSkgEZhiH02yQplYXd3HTKEOJL0nRKztbaydZTw0BpDGF8/vyZMVZEcmYknqjssizLspo3TeTDvt0qq4qKaouV1ZzibhcOh+hH6Q8CbEAIRKbjj0jA0z0QAMYvtzKKAJGyjdZWZWHth0B64nRBI4J1nJLTmBGuDuPV5vyVe0cfff7kxYtNbdzd6vhn73929srZZdRlreuyuun3J8WdVVMsqvrji8f/1a//7vs3nygXu1aiFx310EuEkUiPre9vhsNFF0LUtVJKI4p16tb9U1Xqal72e04gt05KrWy771IO1hTlKt5/bfb+TypSGPw00ZgAIGf+Com+9ASDNmQNkhZymL2kQbWHyHHisTEzT7KtSfTgnKvreuIwisL1Qx+CZ2Zr3VdhamrgzGfz+Ukli/PTqnJWNc5R5hQhdiyjZo4hZzEwWxWhHcYu8fSzCco0D/+/Lk58ma7KpTNzG3NKfdI+pAKVsPhpWapDcppAZR8Vyi8/f/72G7cvj5oW28Ow//43vvnP/uhfz+/OF7OimpVE6ouLi/vVMRGfrZtDPHThcPd09vjy8vLRgLlYLOcItr257lo/HMbd+T4MyRWuKMqpFGpWy/nJmiyzDzFyOVd6pnTlSCmAZA2UpX7714qf/enqs08OxhYiwuJTyhPh/1UhhkiAgkiudlWpc2JVaCKSzFdPdgAICJpeaqettVNfbBgGEanr2lq73++VMjmHKckXzk3i36Is67opjlIsdrfKoqysMfXQ99u+FY9OVYWTduxsZaiM2lhCzpKn9hcA2JmzpR22PcdMmlCTSFYGlMVwSDImnYc8BE+oCZkclkXh3EtBF2m5uNz/5ne+djw7MMbn+4vf+85bix/NLs5vqnkVAuQ4XrzYfm2xWS/ru+uj9y8fHcbtaycPfvbzJ1efHazlWV2Dgb4dhzYwK2a0zi5PFtWstLXWpTa1BmLJElMI47A+K52xSsFsfaw1Aocw9rbpXn1z/eyLK5GOWay1ijDGMHXM/2pPeJoFRs2F08lbpYEsKKO0Mj54rfRXEawoCudcCGkch9OTE631ixcvvB+V0iJSVVXO2RXOOVc4V5SlLXZlYxDA+5DCvuuGvvcxYc7Ydd73EHtIiYGwrAoHNksOPriyOH7lVBu1eXY1dGNRO1OpGIPSCjSCCBBoVSCiIDIqVIaM0dY69jEpsKUdtuOHnz599eTso09evFhu23H/m7/yjf/48c/qI73fd5hBQC7aTVTeGOcH/uUXn/3Oe79emrKY9/PaFU2jK30cUz8O/pBlzNrS8nTxtQdnPeeASAjby0vODICrE7r/arFaKaNjjn0chTSGkYexe/DW/M9/5PrLfYhhmrKbOORpMiC9VH+w5Bz2rGqipPIIYRAqoN0NE//zFZNRFAUzp5QX86VSy7IsD217fXONKEXhhsFPE/rL5Uopo5SpV1gdj2xKCRFSP/gUR2bmzcFfPR+HIUnWOYK2en6vziODZNIkKStrZwuHQnHVoAFdYLEoTDLJewFBAlNrrQurNVinbGWalc4MQzvEMTEnKkkx/cUvHr/3j9+YQfXxhzePHjz/a994dzWzf3H9Wd00T662X7t7OwM82exu1023Dx/Kxbff6O/cPo6QSmuLmdLWHZ2ti6Fv1QFjA6i0Vd986/Uvrq5fDAfO2N9s9pcHa+3R3aWqhU32CQ8X17v9TqlGZVdW6v4b1atv3L66vKyqyo+eRaxzKcWpDpgqGCIoizLsFetcKKVG6vc+7lK/D6gIASboqbUOIQx9q43NOd86O53P5x99/HGMSWurtbGWM7PSpiiqoijKoljcDrrsNpvOdzl4GyINY7fdhIsv2s2LtL69rpaFHz0SRYjtZhi2ua6Nc5UoJAm5Z5QoKcYR3MwZCxkg9AE1aasIScra2pltjqrZUak09F0/Dj5GiZ5TzCnwB48f/+//3vfBQ9t2irQz+GsPXvs7v/JNx1pE3rn79bEPMcGsrEOmJ93l68e3MiEZHWMYd8PhaseDv392dnT7xBgTY3K2mM9K7+Oha7u+H/oxdOny8fDRLzYff3Bzfd1e7Q4ffXR4/8eH7iIs6ubkjvne79yv6oaFAQRAnLVK6SmeiMhU0KbEQ5+GLVNw86peHzlgIDRG6+miIOKkzSqKIoYwtbr6vj8/P7fm5fogYwwhFkXBLE09c4Uplj76MUXf9sN+Szfn9tHH/ZPP+8tnIUdTFDPnauecQqAYOKUcUxgDgihFRJCSz2nUGrQhUmwcWIeIAgQpMRGiq4pm7gBTDBwTC5GqNZVElVJOO2N+8ssv7ryy/sG7b13f7B9fPvkPv3z/dL6unb1TzX7+0RekdG2rro+rWcUJnzy5XDXr/WeHNxe3dSvUy3DT7Ta71x8+mM+blNMwDtddr8n0nY8xNbP50cmRsnT9vPvoR8Onfy77bR672O1UvwMBlVEO3WZ5p3/l4f3MYpyNMWVm6xx/2QdWShNqpVQzs7O5Kwqsl2hr9P0AAhPIm6CniIzDAEBaG0BUyoTgYwzMWSk0xuSctTFFURARklrdtkO7O1zm7MvgjcrLVflGiWfjNaLXMcbtdrfZ3mxv9pvzQ3szzF1562xZ1TZLjn6MKQmxK225rIqVNQVmYT/mnEQIYh+pKq2zylmCnLMPKooBcsYiUI6JNLz64OTO/PQP/+RPX71zNAb+4vLFfHny/hePXr/34PR40Y7p6eWzb3/96yOGuStZ0vWha5N3VMyL+ni5+K1fe+eN2yeY+OnlU2NJ1+Xi5GjnDyCCSKUrT8/O7rx6/+T2mdaq3wzdTbh5KpvnhKzLZdElf31z8+LixcXh6Z3XGkt6WszwJVejECmlzJyJ6ORk9ebD2w8fHC3WRoowcn99vkucc0ree3rZUYApapVliQDGmJubGz+OKU2rnqEoy6qsiKgsS2OQ7PbycfviY7l5hO2lnhdnd2+/fnZ8zyABc/Bhd9PGINa6qq7Wq9Wt28e37hzPFxWRCHOKMgk2EMQolxnare+ufPacY0pDptWqKbVT4FjIWjOfVdZpSCxBgLmeVaOk73/j4cXn+3Khba1u2vZ4NfvFk3Ol88lqZo3+i/c/VpgEQCOwT93IX2wuTt881nW5OKm/2H/x27/+LVvi8+ubsqrXd5ar08UQhu3uJoegQVlNrlZ2ro9fXa7vzcIYH/+sffFRVlLWa1JNSinFIbX9bnGPTm+fRR9SDJxTVVWz2fzo+EQplTMDCiklWatccNThkLiXoev7tiNS1hjOnFMiRJEsIhPC0Zq2213OTETauJSzc65u5gBUltX6uEy5y0zhYNorzgGqsqrrpi5KZTQQxCEM111302tTzI4XzaoBjDmPzFmTskppYluQdVohccJ+H7vryB4kivQiGXTRFCQmRciDeJMLZ1Vp4uBBcVFUWsNuP/7wLz/4wbfeyxaPz1ab3ZAkja3/4PMvjtdzq/XlZvjx+5/EJF761OaDtJv1kKzswuG/+u2//fNPfo6ZvvHaW3/62cf3Tx8ASRzHy/ORQtxd7TgCObQ1NaeApk591V712WNVu2KmT5bNg/tu2z7xQULg5iR/+7vvfPHoMcQwzVit1+sQIiIc9getMYT48YdPy9IVJRSVPl2ub9+6efHkU2OUdTamlGKcNk8AoLWmKOb7/e5w2GlNIsAcnSuJaLFYAKIrrWtgTBk1GkN9ZAEqy/lstlgenzWLYt/ui9rkCGEcsvTa6OiHFDIpZYtC6RR9SmMnIkTKWuxHP1wNqc+qUMnn6BkZdBiYx1GIIJgAkvQYx+RKp5Ak574do5fPx82r/faVxVsPT+/8u5+/34H84JtfH7rBNXZWmDim5+fXt+6fjYdoxXSbBOy1yb/61tsffvT+//SjP6mL+jt3vvafP/joyfNnN90BQ5LCLpVLQ+yotzOdtSIAi5a0VEuLCp0twPFsbn/9137zavvpn/zxn109i8Vd94O//dbP/uJnv/jJR4AQQthtt2VVzWZzInXYb7tu3G4OPXT37jblsnSolmdzZg7BA00M0rTumgEEEauqevLk8TAMADLJmJfL1SS9Kgtny5zskGAQYO0sjuPZ6v7tO6/P17fH6E+O7ry4uD59sLZVKRDLymlFypqUQGljtPaj92MYxzgO2ZC1TkHOpAQNs+ccmTNjQvI3w9D60AWLFoM67Hx76F85Pls1y5R47FKMsajc4363H4br9vyV9SyH3tSmj/nZ/vL+0eybt++MNwMCpQyrsg45iahXT0+WJf38809DIrRwfLv8xpuvaaR2s8s+lYVdnc1O765dVfkub5535x9vLz/ddTcREcVK0iFxfnR1/i/+zf+w8Ztfe++331n/yq3y6299452/9Q9+zRgdo9/vtvv9dr/bBD8iSFnVAkJGubkpj7RbyGjC48cXUyuYUwaWSTs0pWKtNSm12dz0fR9CnBi6oR+mGm2+mLMad/21Dz5HZuDFrHnt1Xfr5jiGPvhg7QyBInPK3O/z7rINoyA6NGAtWUOQEjISOQGKOcUYUUtRa2NBSEhrZTUo1MemuvFjU5YhQT+MPnoGef7i4ntff/OPfrpnDdZxtSjKov78xeXpLL1y7/Zv3rJXO4miRaRp5PXq9GefP+r6fVOXd9ZHvGhuL49WM/cf/vKn59vt62cnX/vGraN7y/eG+8/+6Cd6SKUzNmVD5KwbYhi66EcPIBCN1YQM3CdxyVjH2Vy92H3ywY//1u/Yf/BPvr/bK1Xxr/zWm2f/9Pjx46cxDupLkSgAaGOBMTGMYwo+R4ftNl8+O6SUkXBqBU/OmDowy+WiOxz2+8NXs2BKKeYcY6zLumzc1e55Q6QEc5A4JmNLQnuzffrs8S+ePn+2PTwtGtped1efbYZDKmqnlD2+NQPUWpUp56GPwWeJTAyZOaIAZgTSymQbBQVQoARdF06ITo5XHz2+2O0OVuu3X733488/LYR+8713/u0vfwlGo9Li/cWTq3jED7926/Z8YSV9/sV+NnfVsrl/59760/cD8+nxKgxhVcHr66O7D1775//yX8xNE3M3X1qq42xdrp0by+qt26e7dqN6nw/D0Hb9GI0x6/lMKdVve4/CyGChKDhYu9uG+ULv28N1+OBi09xfv7k4Xp7dPru4uFYqxRinhsl0roOPqxNTHlOh0Ijpn4w35ztS+NWply/3qjjnTk9O28MB4CWQfSkz1do5pzUNYa80WmsAco55DNx14eMP/xwsfvrJT7s4OEezpQsh7l503Ccvcjj0qgRi4VFSDF3XDV0a+kiExmqlKOWYgqQgrFE5yIEkJ0oxFsAlaUwpR97s++Nls1bVn//yi+dXz7772msKSBNpZcqyen7Zd2FgigxhJigemqZ+cP/OD957txJ967SGxFbkl48+S/nq7//m7xo2m/NzkNCPXanpu2+98dqtk+Vi5tCWADOnispqhcLwyq3Tbz58wBh1bZQx4RAfHt3/P/2D/4Pfjf4G+Wavuuu+PYwHWK6Wi7VtZvOqbtZHx4vlqq5nTTM31iVOr7+z+trbq1eW87nSVzdbgJcDBF9peKchAEQ8HLbGoisK64qJqBARBHDW6ZL6uHEz0iULBIasUXVd/+c//dGf/vCPr17sZSSfQuIoBKY0oCDF1G27mxf7i8c31zfb7f6w3/i2TSkzKTBaTR/JkxPmlCFL9ln6DKPopi4vr7er2rz36t3Vovrl588/fXb+xv3bT6+v/+2ffvBf/90ffOPewxeHzpFjyBaVD5CZUuZEQx6IMdd1cbpYflt/fbvfrpf1fjuOcfjpR++78mSW+ab3vg/Hi2OJfd/u+5vNpWRShjTYOdtClWzHLh2G9v7dxeysLBdOPNB5enT1OZxe/x//u++dya2D3vTO3Fz190/Wg2k52fXqJERfVaX3nlmcc/v94fh2sbxjj6sKe744tIdNBOCmaSbZD3wpWJ+20VxdXr/55htvvPH13W572LdVVYEAcwIBV5PX2ZaJKSJI2cwymENHuZVhiIW2EnPucsTMQRSRK60Ig3DfDRjxQD7GPByCENkCgHiIHiOmKMBMCjJz9oIEuibdlMWzwDHn2+tqtShLa0Lm1+7f+stPH0WCn3z46Ld+9b2hS7Wyt480Rjhyc5/IlXYYgzbF3WZ5cfHFv/nhj1Rtf+/73/Ajf/psE0y+p+yjzz566/bJblTQpc73V90+QKyLInZjBrDFalkvn99c6JpKY5Lx2ilTEmnJLOWR45h+/Iuf/8N/8FvFdf7FeTykdPns3L5r2Auwq+paB4MIVVUdDq33QRi0E4WAXg2ch03+7MPzZjafLxYxxnlZ931fVgZRckrW2sVq3Q1BazOfL5fLo9dfez3l1LW9cMBmKGrEEKP3pdazEr2wacmUqsqWUCdJHNg5a2fOeN0X2aeAVkGOnHkcOeXMCkFEMgBgDGN7mNYrkHUm9lky6ko4g75pR1uWfUy3FwsdxiNnq+UxZPmdX33vett5zpfn17eWdWi7e796Pw/KEEdOVJqTo/tPrzdv37p7vt2VTfXs+mZ1a5231F7/9PUH65O60A3cfXvVqTsw5Ovt5WHInz57fvbg6ItPn1MFD994+OLJR8zJzTQq9BgG3/r9GHpFiqw2Ivwnf/iz7z589/6d4mj+xvsf//HDr91vu/bnf/Kz84uroe8JcRh7ANnttodDO5+tq2q55tmhbRHt409u4sir9UprVRSu7/q6rppmdthvrdbroyMBuL6+Gn24d+9+DKGsisVqdXN1FdOhVzd5SOAFx1Q34pQPui/q4TatnvbXoRuV4jFGB4W1UlBOKkbOymBZGS45RGQQUhAGz4CrdTFzzrfdS52kUgCkrSBj3rHuo9fatn0YY+6T78d40qjdTXfn6Pi9N9/47NNH2yGqk8r00cfOaIkxLFUhrunLXev986sXTPS1t19ZPLeb6/3Z+u7Dk8VaW0709bfuzlfzora7OJYw36euN/nozVsbFaLum4UbH+0rZ8HB4FNFtR/jsIukExU6CB/Pq9/8m2+/cvuhn99guHr9wVvDrvjP//5n//Jf/qswdM+fP0OAEPw4DkpRWRXGaM0KOtnuw6IsUxAR2NxcTf2CqqpCkOurS62VNdpa3XX94P2tk1tp7F48f/LFpx+8/urDxXxZndCIUujZ3Ub+8a83P/okfH6hv/b6e//td/7u6dnXfvhH//N////47y/3T2lQ79x/7wc/+A0D23bkf/HDf/vp049uL6t9n19cjnFk9oIaRSujVFVzcVA+oWIEIGBkZB4IAuiYcl3q/cH707wdfER48fwSSZ1fXj55dv76q2fPf/b585K+8dsnUm1SXyGBUBrHQVnxknaxX99q3luePVxTvx/ojN/91QfkEWztSsOj66/FHGXUSlK++9rJ8v7xmcr7/sV6sfjavYdSP2bEi6vt6/deOS4X6uPnOfLYhZCiBN+lRUeXjz5/9JOf/OS117/31175TvW9w4/+459smI/Wx2dnJ+fn59vtzZ07937/b3773//xz9DHjz582issj9ZH9fGbD+/sDv3mZrPZ7jabTUp51tTf+s639rtdjKEyejh0J/Py22+88u2vvz6br775rXcXs6WeFegEMsyrYtkUv3sXDv1gXV3oHPv+B7/1D+699s6/+n//3188v/6bf+Mf/sb3vx/84fzy6SdXj1Te10Wxu3k+dn0YWBIro6xDdIkrzRZyzJCBBIxSMXGKIgq0D/6N19cff7Qdw/jifHt6+yQFv72+OX04Oy2Wnz/5YrasgOsXf9n719Pd+0deWaZ8GA7Jc+axbpbHxnEb6uV8exi/+PTxw1eP9rtDl4qhV6aqE5dVYROk5fH8dl1VlXr7lXufP4pbv3nj7M5WHw4h7dvWaF6sqpNbJXT66eNNjdh1w0cf7z+7f9PTuFicHdrDL//yo1nyDvnW6dHNzXnfd4ggIpeXF+dfPP7VN4+5PP0bP/i9ppnVzbz+/dqVjrS6fPHi8uLi0eOnH37w0cMHD37rt/6atlpEiYBSBklZ5+bzWhuVmTMQy7R5NHHKkUjZONOFH/r24EX6nK4Uuf/ib/93COz77tOPPo4hp8y//71/8pvf+i9AZHc43Ox25xfPHz97/vTyCRlvZqlws7B7dBEPPkXSqC0nSErBrTdXWlXKFBpJ7wdfzTSlXK5nTKpweP+9unpar37tO/Ozs25zfTh//7q9SbNa+wJTGlpfSJ47046hG8ej1TKt9txGE1fDmOPuMCzc8eo2KLMJwyk0s2VViorDfqkXBvHz63MSqLJ9snvGTA/v3FFpvFWdPLz9yvrXbx2tlgPk64vDzady6+E3H7wG+03+g3/2L377u3f/44/+LOcQU/zii6d3z07vHx+d3brzzte+9t7XX3/9m3/j7oM7AFlE5xwBABCaunr4xsPvgShlADCMfhz3IlSVlQBOrf1+6PNBRHJGSDmTkACQNskn770GTiFMEzfa6sgy9B0hiEBmyERKawCYuUJyNNX89Pb9t998m0D6cQzBA3DO3P9623V9u9/tw7DZbX0YNsMLe1fp5ZFqlkXKufPp6KHjg1yfb9/+jbsO2JbgTuse26c/+dmZbXaH3cX+57/2ne8W5au4KstZ9yJ+9Mnj8wcP7+QEPMoQDvW81lb7AQzIs91h6VvJ4INNSRy1WtnMsdtzFw8w4Ivt5b3mtI5uVZ9db/y92b3/8vf/7mK1WC1XqEhrA8AggAA5jjfq8vu/8defHD77G9//9Zz5tYevnJ0c37t7dnS0evdb3xzjoHS1Pjobx93m6pPZ4k3O6eWaRBalFBHmLFprMkWpCgZJOWXJKJJSCD4Q6cwccmJmePmJJD6nJMKBWQSYc4iDSEbliDCFgITWGsgvBT8pJQJUSqfMwCgcY05JhIA4h7Koy6JeLdekVM4gOY/eRwn6wbeqi4sLKoMuJEXeXm2StX3Y1PdXI4dt1/J/GpZEp/fMF1ebV7/7g1web1PrVLDL4s1vf/3DP/2PMYY0UgsHUeCHcUx86+T0+cXmqDGF1otmbsuIrEM/lsdzrQxg/U7x+mp2W+mmKSvjVk1Tj6FzRZEzE6rEkr1XMfr+EIIvCquNrebz3/m93x3i47/3O3q5un10fMrKZL9///1f/vL999/91e9aoRQCi0pjUMdU1E2OKcekFQlI34/G6EnokHMWTZMAVFLWpIyx3o8xpknz/pUGW5iJKKbEwiwZRAg1p4CASmFIObJ8JSQtiqLb7wVFKZWIGUlZlwRCjD4DR08yrcNh5pxSGseRM2susl2Y9X1Mvtu/SNuL0XN376HjyJeQiwWOG3iWLsqENdXj9dWQuuzTaqSb3N0+eefNu69n2QrEul6v5q8uFvfnrgTNZw+OibxR9gfffxcrB5gNUFWtEGzOkjgqbTgeGKQo6p/95MePX/yiLN13v/17pGxIiVlcUQAZ4wimT1VMsXS158ItVqjNzfbq5ubmJ3/247pobt1/xfcDG6dJSKvF7a8R6RBSzlnk5UcFSMr/q/VBtDE5cxJRAIlfjurlnKcPFTDGKKVRGUDOAJkhxhT9qKwjjQwkzJIjkvEhkMJxHCTxqDBLBoA89iF4JKu0CT7FlBBIa2e08aEXzJLyNATIyLq9PuiycmC7FIqDQcxHp5V4n3cdOgsJlqfm8WcvHm3D3Mx5s2Fq0CzPFm/u+02lb529chsV5TtUN0sEo7Sh3CUanCk5cUjsmubm5nJe1ajM4dAd2stpT4wPm9jtc/e8OX3jP/27P7novrh7987XHmzQKE4Zldlvr4zOk1SWyFhbeINDn9iNnMRos5gf/87v//3FeiWYu7bLGQSy+DQM3UgRM2fhPgQQUS8/ZcROW4BExCYmrXPm6RNpvtQNZhEmUtNK6imqAAAp7ZRGbQAhhJhyBpE09sbVpFTOviisEgwhhJxiyDFEYtRWZ5aiqArgEPrtza5yVeF0G0bmrLQyYjF6ff08VDNrsKh16XNCIRgZWMZxLErYI5gVn8Tjs/kZ93L37htWp0u/f4afv/Xq36rtgwQZOFs9fbxFdkhZV1GiDV3KiVyZkwCpIWWOBmWYJuh2283YD3XtfNqXw+bv/6P/3XX7tGjqsqz7w6YfW4Bkdc1UIGAIDBCZ0fttzKpwupgti7Jyzvlx3B8OPvQH31a6icFLTkxRi0WimLIxKkefiYC09zLdAEQcYqLMOficEwCI5C/NTTkjoyAlimkSx01a3ZSzsEy6im6/iz6Yoh6HFjiw1hGJOWsB1AqzGkIHRiGrGMfD/ianjKgWiyXnoVivtrvDzXZbl0a01SpQjjF2cZbmRiltYdHUYeDeKGVPmzo25fq0ebUqmovzP4/4HOK9O/N387B/dvE/nsx/bzZ/RztHQJyo9x2poEylQQ+pS4fOp1SvT2+GawW0MCft4Fm4csYgKcXkol2mlKLWWNYNkChIAIElF66OAWxRak1ZUlk2ChWiSimJcjHlsNsTQdt1hGq/P79un79x71eJiMgMWcDoHGJKeZroISIWzCkzS0xRmBMQihiFMSUiEiEAoi9lFt04aNLTZhoiSjG27YG0VooO+9YYS0Ta6Ourc+AQBg+ISC83JixX8/2wH33sxp5EOEWtC2WMAFxfP7XWeB/2bRfGIQ0x+KxjD5xy6rTBUDjDAwImRrpB1qhfc8XD+TtKzl74D6KHn7x/8c7rr4y77S13v1bFoePRP64LZ7VldLtuuNheLu1K6T3GG6tOlVnEMY5hzOJVb7PSSitQkRXIsNs+DnWzyioVVunoI0g/hiSuqmoNSZWKSIBIUcVIPnitTdu3MXO2TERdd1BazxdL2Y0qeVLoPccY+rCfV2siowyxiCETctCmZs4pxa7riAi1aQ974ARKodJGuakRBopEeFotV5YlixitDVHyfWhFOZVS1ga7YegP+1ldxiDMOcZUVhUhEsHu6pJJz5brMOwxBbAmpHEcAqkqDrteaWXsbDYjwPZwIOv+v/EC3zfJzrkiAAAAAElFTkSuQmCC\n",
                  "text/plain": "<PIL.Image.Image image mode=RGB size=128x85 at 0x7F1B354AEF90>"
                },
                "metadata": {},
                "output_type": "display_data"
              }
            ]
          }
        },
        "6b1de0ab3c434dde8006ba4c7259b78a": {
          "model_module": "@jupyter-widgets/controls",
          "model_module_version": "1.5.0",
          "model_name": "ButtonStyleModel",
          "state": {
            "_model_module": "@jupyter-widgets/controls",
            "_model_module_version": "1.5.0",
            "_model_name": "ButtonStyleModel",
            "_view_count": null,
            "_view_module": "@jupyter-widgets/base",
            "_view_module_version": "1.2.0",
            "_view_name": "StyleView",
            "button_color": null,
            "font_weight": ""
          }
        },
        "796577d4800a4ef3860341dca1829695": {
          "model_module": "@jupyter-widgets/base",
          "model_module_version": "1.2.0",
          "model_name": "LayoutModel",
          "state": {
            "_model_module": "@jupyter-widgets/base",
            "_model_module_version": "1.2.0",
            "_model_name": "LayoutModel",
            "_view_count": null,
            "_view_module": "@jupyter-widgets/base",
            "_view_module_version": "1.2.0",
            "_view_name": "LayoutView",
            "align_content": null,
            "align_items": null,
            "align_self": null,
            "border": null,
            "bottom": null,
            "display": null,
            "flex": null,
            "flex_flow": null,
            "grid_area": null,
            "grid_auto_columns": null,
            "grid_auto_flow": null,
            "grid_auto_rows": null,
            "grid_column": null,
            "grid_gap": null,
            "grid_row": null,
            "grid_template_areas": null,
            "grid_template_columns": null,
            "grid_template_rows": null,
            "height": null,
            "justify_content": null,
            "justify_items": null,
            "left": null,
            "margin": null,
            "max_height": null,
            "max_width": null,
            "min_height": null,
            "min_width": null,
            "object_fit": null,
            "object_position": null,
            "order": null,
            "overflow": null,
            "overflow_x": null,
            "overflow_y": null,
            "padding": null,
            "right": null,
            "top": null,
            "visibility": null,
            "width": null
          }
        },
        "81d0a1732fe148f7bf694b3d87d57660": {
          "model_module": "@jupyter-widgets/controls",
          "model_module_version": "1.5.0",
          "model_name": "LabelModel",
          "state": {
            "_dom_classes": [],
            "_model_module": "@jupyter-widgets/controls",
            "_model_module_version": "1.5.0",
            "_model_name": "LabelModel",
            "_view_count": null,
            "_view_module": "@jupyter-widgets/controls",
            "_view_module_version": "1.5.0",
            "_view_name": "LabelView",
            "description": "",
            "description_tooltip": null,
            "layout": "IPY_MODEL_18353ac0cea149ccb7ca02e319d2affe",
            "placeholder": "​",
            "style": "IPY_MODEL_257643633d4d456d93d5494b25e09886",
            "value": "Select your bear!"
          }
        },
        "835f24ebc88c49ddaf5bfd29525d44ca": {
          "model_module": "@jupyter-widgets/base",
          "model_module_version": "1.2.0",
          "model_name": "LayoutModel",
          "state": {
            "_model_module": "@jupyter-widgets/base",
            "_model_module_version": "1.2.0",
            "_model_name": "LayoutModel",
            "_view_count": null,
            "_view_module": "@jupyter-widgets/base",
            "_view_module_version": "1.2.0",
            "_view_name": "LayoutView",
            "align_content": null,
            "align_items": null,
            "align_self": null,
            "border": null,
            "bottom": null,
            "display": null,
            "flex": null,
            "flex_flow": null,
            "grid_area": null,
            "grid_auto_columns": null,
            "grid_auto_flow": null,
            "grid_auto_rows": null,
            "grid_column": null,
            "grid_gap": null,
            "grid_row": null,
            "grid_template_areas": null,
            "grid_template_columns": null,
            "grid_template_rows": null,
            "height": null,
            "justify_content": null,
            "justify_items": null,
            "left": null,
            "margin": null,
            "max_height": null,
            "max_width": null,
            "min_height": null,
            "min_width": null,
            "object_fit": null,
            "object_position": null,
            "order": null,
            "overflow": null,
            "overflow_x": null,
            "overflow_y": null,
            "padding": null,
            "right": null,
            "top": null,
            "visibility": null,
            "width": null
          }
        },
        "85a7f04645d14e86b42ff1eb354cf148": {
          "model_module": "@jupyter-widgets/controls",
          "model_module_version": "1.5.0",
          "model_name": "ButtonModel",
          "state": {
            "_dom_classes": [],
            "_model_module": "@jupyter-widgets/controls",
            "_model_module_version": "1.5.0",
            "_model_name": "ButtonModel",
            "_view_count": null,
            "_view_module": "@jupyter-widgets/controls",
            "_view_module_version": "1.5.0",
            "_view_name": "ButtonView",
            "button_style": "",
            "description": "Classify",
            "disabled": false,
            "icon": "",
            "layout": "IPY_MODEL_835f24ebc88c49ddaf5bfd29525d44ca",
            "style": "IPY_MODEL_37915f7e707f4f0da9442a43593a13b5",
            "tooltip": ""
          }
        },
        "9cedd76a46cd4519ab10372ef87668aa": {
          "model_module": "@jupyter-widgets/controls",
          "model_module_version": "1.5.0",
          "model_name": "LabelModel",
          "state": {
            "_dom_classes": [],
            "_model_module": "@jupyter-widgets/controls",
            "_model_module_version": "1.5.0",
            "_model_name": "LabelModel",
            "_view_count": null,
            "_view_module": "@jupyter-widgets/controls",
            "_view_module_version": "1.5.0",
            "_view_name": "LabelView",
            "description": "",
            "description_tooltip": null,
            "layout": "IPY_MODEL_b6a454079cee4e128f274a03e309fde6",
            "placeholder": "​",
            "style": "IPY_MODEL_e8a32ffd7a3b4f67a4fada8d51de4891",
            "value": "Prediction: black; Probability: 0.9927"
          }
        },
        "b6a454079cee4e128f274a03e309fde6": {
          "model_module": "@jupyter-widgets/base",
          "model_module_version": "1.2.0",
          "model_name": "LayoutModel",
          "state": {
            "_model_module": "@jupyter-widgets/base",
            "_model_module_version": "1.2.0",
            "_model_name": "LayoutModel",
            "_view_count": null,
            "_view_module": "@jupyter-widgets/base",
            "_view_module_version": "1.2.0",
            "_view_name": "LayoutView",
            "align_content": null,
            "align_items": null,
            "align_self": null,
            "border": null,
            "bottom": null,
            "display": null,
            "flex": null,
            "flex_flow": null,
            "grid_area": null,
            "grid_auto_columns": null,
            "grid_auto_flow": null,
            "grid_auto_rows": null,
            "grid_column": null,
            "grid_gap": null,
            "grid_row": null,
            "grid_template_areas": null,
            "grid_template_columns": null,
            "grid_template_rows": null,
            "height": null,
            "justify_content": null,
            "justify_items": null,
            "left": null,
            "margin": null,
            "max_height": null,
            "max_width": null,
            "min_height": null,
            "min_width": null,
            "object_fit": null,
            "object_position": null,
            "order": null,
            "overflow": null,
            "overflow_x": null,
            "overflow_y": null,
            "padding": null,
            "right": null,
            "top": null,
            "visibility": null,
            "width": null
          }
        },
        "e8a32ffd7a3b4f67a4fada8d51de4891": {
          "model_module": "@jupyter-widgets/controls",
          "model_module_version": "1.5.0",
          "model_name": "DescriptionStyleModel",
          "state": {
            "_model_module": "@jupyter-widgets/controls",
            "_model_module_version": "1.5.0",
            "_model_name": "DescriptionStyleModel",
            "_view_count": null,
            "_view_module": "@jupyter-widgets/base",
            "_view_module_version": "1.2.0",
            "_view_name": "StyleView",
            "description_width": ""
          }
        },
        "efb36e97405e433b8211708e12c86a75": {
          "model_module": "@jupyter-widgets/controls",
          "model_module_version": "1.5.0",
          "model_name": "VBoxModel",
          "state": {
            "_dom_classes": [],
            "_model_module": "@jupyter-widgets/controls",
            "_model_module_version": "1.5.0",
            "_model_name": "VBoxModel",
            "_view_count": null,
            "_view_module": "@jupyter-widgets/controls",
            "_view_module_version": "1.5.0",
            "_view_name": "VBoxView",
            "box_style": "",
            "children": [
              "IPY_MODEL_81d0a1732fe148f7bf694b3d87d57660",
              "IPY_MODEL_f0f54a9f58694133a5ec3ad363a8353c",
              "IPY_MODEL_85a7f04645d14e86b42ff1eb354cf148",
              "IPY_MODEL_631954ae3f65475b9198758fd96efedb",
              "IPY_MODEL_9cedd76a46cd4519ab10372ef87668aa"
            ],
            "layout": "IPY_MODEL_3b9da14895e6494eb131d790373a68f6"
          }
        },
        "f0f54a9f58694133a5ec3ad363a8353c": {
          "model_module": "@jupyter-widgets/controls",
          "model_module_version": "1.5.0",
          "model_name": "FileUploadModel",
          "state": {
            "_counter": 3,
            "_dom_classes": [],
            "_model_module": "@jupyter-widgets/controls",
            "_model_module_version": "1.5.0",
            "_model_name": "FileUploadModel",
            "_view_count": null,
            "_view_module": "@jupyter-widgets/controls",
            "_view_module_version": "1.5.0",
            "_view_name": "FileUploadView",
            "accept": "",
            "button_style": "",
            "data": [
              null
            ],
            "description": "Upload",
            "description_tooltip": null,
            "disabled": false,
            "error": "",
            "icon": "upload",
            "layout": "IPY_MODEL_796577d4800a4ef3860341dca1829695",
            "metadata": [
              {
                "lastModified": 1657773572961,
                "name": "istockphoto-97739452-612x612.jpg",
                "size": 43997,
                "type": "image/jpeg"
              }
            ],
            "multiple": false,
            "style": "IPY_MODEL_6b1de0ab3c434dde8006ba4c7259b78a"
          }
        }
      }
    }
  },
  "nbformat": 4,
  "nbformat_minor": 0
}
